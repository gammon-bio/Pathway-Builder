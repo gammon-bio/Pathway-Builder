{
 "cells": [
  {
   "cell_type": "markdown",
   "metadata": {},
   "source": [
    "# Pathway Builder quickstart\n",
    "This notebook installs the package in editable mode, runs the bundled toy bulk scoring workflow, and visualizes the resulting pathway scores."
   ]
  },
  {
   "cell_type": "code",
   "execution_count": null,
   "metadata": {},
   "outputs": [],
   "source": [
    "!pip install -e .[dev]"
   ]
  },
  {
   "cell_type": "code",
   "execution_count": null,
   "metadata": {},
   "outputs": [],
   "source": [
    "!make toy-bulk"
   ]
  },
  {
   "cell_type": "code",
   "execution_count": null,
   "metadata": {},
   "outputs": [],
   "source": [
    "import pandas as pd\n",
    "import matplotlib.pyplot as plt\n",
    "%matplotlib inline\n",
    "\n",
    "scores = pd.read_csv(\"out/toy-bulk/scores_bulk.csv\")\n",
    "top = (\n",
    "    scores.groupby(\"pathway\")[\"score_w\"]\n",
    "    .mean()\n",
    "    .sort_values(ascending=False)\n",
    "    .head(5)\n",
    ")\n",
    "ax = top.plot(kind=\"bar\", color=\"#1f77b4\")\n",
    "ax.set_ylabel(\"Mean weighted score\")\n",
    "ax.set_title(\"Top pathways from toy bulk run\")\n",
    "plt.tight_layout()\n",
    "plt.show()"
   ]
  }
 ],
 "metadata": {
  "kernelspec": {
   "display_name": "Python 3",
   "language": "python",
   "name": "python3"
  },
  "language_info": {
   "name": "python",
   "version": "3.10"
  }
 },
 "nbformat": 4,
 "nbformat_minor": 5
}
